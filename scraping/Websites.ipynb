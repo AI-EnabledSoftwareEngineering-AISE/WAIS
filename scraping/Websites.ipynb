{
 "cells": [
  {
   "cell_type": "code",
   "execution_count": 1,
   "id": "a4e3802e",
   "metadata": {},
   "outputs": [],
   "source": [
    "from selenium import webdriver\n",
    "import requests\n",
    "import io\n",
    "from PIL import Image\n",
    "from selenium.webdriver.common.by import By\n",
    "import time\n",
    "from bs4 import BeautifulSoup\n",
    "#from BeautifulSoup import BeautifulSoup\n",
    "import urllib.request as urllib2\n",
    "#import urllib2\n",
    "import re\n",
    "import os\n",
    "from urllib.parse import urlparse\n",
    "from PIL import ImageFile\n",
    "from selenium.webdriver.chrome.service import Service\n",
    "from replit import clear \n",
    "from selenium.webdriver.support.ui import WebDriverWait\n",
    "from selenium.webdriver.support import expected_conditions as EC\n",
    "from tqdm import tqdm"
   ]
  },
  {
   "cell_type": "code",
   "execution_count": 2,
   "id": "b0fb53bf",
   "metadata": {},
   "outputs": [],
   "source": [
    "def get_images_url_from_google(delay, max_images, url):\n",
    "    \n",
    "    wd = webdriver.Chrome('./chromedriver')\n",
    "    def scroll_down(wd):\n",
    "        #wd.execute_script('window.scrollTo(0, document.body.scrollHeight);')\n",
    "        wd.execute_script(\"var scrollingElement = (document.scrollingElement || document.body);scrollingElement.scrollTop = scrollingElement.scrollHeight;\")\n",
    "        try:\n",
    "            WebDriverWait(wd, 1).until(EC.element_to_be_clickable((By.XPATH, \"//span[contains(., 'See more anyway')]\"))).click()        \n",
    "        except:\n",
    "            pass\n",
    "        try:\n",
    "            WebDriverWait(wd, 1).until(EC.element_to_be_clickable((By.CSS_SELECTOR, \"input[value='Show more results']\"))).click()         \n",
    "        except:\n",
    "            pass\n",
    "        time.sleep(delay)\n",
    "        \n",
    "    #url = url\n",
    "    #wd = webdriver.Chrome('./chromedriver')\n",
    "    print(url)\n",
    "    wd.set_page_load_timeout(30)\n",
    "    try:\n",
    "        wd.get(url)\n",
    "    except Exception as e:\n",
    "        print(e)\n",
    "        return None\n",
    "    image_urls = set()\n",
    "    skips = 0\n",
    "    \n",
    "    while len(image_urls) < max_images:\n",
    "        scroll_down(wd)\n",
    "        \n",
    "        class_DwpMZe = wd.find_element(By.CLASS_NAME, 'DwpMZe')\n",
    "        if class_DwpMZe.get_attribute('data-status')=='3':\n",
    "             #print('scroll_down(wd)')\n",
    "            thumbnails = wd.find_elements(By.CLASS_NAME, 'Q4LuWd')\n",
    "\n",
    "            for img in thumbnails[len(image_urls)+skips:max_images]:\n",
    "\n",
    "                try:\n",
    "                    img.click()\n",
    "                    #print('clicking')\n",
    "                    time.sleep(delay)\n",
    "                except:\n",
    "                    #print('except')\n",
    "                    continue\n",
    "                images = wd.find_elements(By.CLASS_NAME, 'eHAdSb')\n",
    "                #print('images = wd.find_elements(By.CLASS_NAME, n3VNCb)', images)\n",
    "                for image in images:\n",
    "                    #print('getting urls..')\n",
    "                    if image.get_attribute('href') in image_urls:\n",
    "                        #max_images += 1\n",
    "                        #skips +=1\n",
    "                        #print('break')\n",
    "                        break\n",
    "                    if image.get_attribute('href') and 'http' in image.get_attribute('href'):\n",
    "                        #print(' image_urls.add(image.get_attribute(href))')\n",
    "                        if not str(image.get_attribute('href')).startswith('https://en.wikipedia.org'):\n",
    "                            if not str(image.get_attribute('href')).endswith('.pdf'):\n",
    "                                #if not str(image.get_attribute('href')).startswith('https://worldairlinenews.com'):\n",
    "                                image_urls.add(image.get_attribute('href'))\n",
    "\n",
    "            break\n",
    "            \n",
    "    #print(image_urls)\n",
    "    wd.quit()\n",
    "    return image_urls"
   ]
  },
  {
   "cell_type": "code",
   "execution_count": 3,
   "id": "30ae7993",
   "metadata": {},
   "outputs": [
    {
     "name": "stdout",
     "output_type": "stream",
     "text": [
      "https://www.google.com/search?q=pedestrian+cross+pedestrian+stripe+crossing+crosswalk+signal+traffic+pedestrian&hl=en&tbm=isch&sxsrf=ALiCzsZEJ6arMNSkiJMOJpJY7O2JrTSeQA%3A1660921999166&source=hp&biw=911&bih=699&ei=j6j_YvqcAsar0PEPvKq3qAQ&iflsig=AJiK0e8AAAAAYv-2n1v_RuOk6Bga8252Kp7r0kNZsEgJ&ved=0ahUKEwi6oILOmNP5AhXGFTQIHTzVDUUQ4dUDCAc&uact=5&oq=pedestrian+cross+pedestrian+stripe+crossing+crosswalk+signal+traffic+pedestrian&gs_lcp=CgNpbWcQAzIECCMQJ1AAWABgpQNoAHAAeACAAUCIAUCSAQExmAEAoAECoAEBqgELZ3dzLXdpei1pbWc&sclient=img 196\n"
     ]
    },
    {
     "data": {
      "text/html": [
       "<div>\n",
       "<style scoped>\n",
       "    .dataframe tbody tr th:only-of-type {\n",
       "        vertical-align: middle;\n",
       "    }\n",
       "\n",
       "    .dataframe tbody tr th {\n",
       "        vertical-align: top;\n",
       "    }\n",
       "\n",
       "    .dataframe thead th {\n",
       "        text-align: right;\n",
       "    }\n",
       "</style>\n",
       "<table border=\"1\" class=\"dataframe\">\n",
       "  <thead>\n",
       "    <tr style=\"text-align: right;\">\n",
       "      <th></th>\n",
       "      <th>key</th>\n",
       "      <th>links</th>\n",
       "    </tr>\n",
       "  </thead>\n",
       "  <tbody>\n",
       "    <tr>\n",
       "      <th>0</th>\n",
       "      <td>196</td>\n",
       "      <td>https://www.google.com/search?q=pedestrian+cro...</td>\n",
       "    </tr>\n",
       "    <tr>\n",
       "      <th>1</th>\n",
       "      <td>412</td>\n",
       "      <td>https://www.google.com/search?q=+pedestrian+pe...</td>\n",
       "    </tr>\n",
       "    <tr>\n",
       "      <th>2</th>\n",
       "      <td>172</td>\n",
       "      <td>https://www.google.com/search?q=+pedestrian+ve...</td>\n",
       "    </tr>\n",
       "    <tr>\n",
       "      <th>3</th>\n",
       "      <td>363</td>\n",
       "      <td>https://www.google.com/search?q=+pedestrian+in...</td>\n",
       "    </tr>\n",
       "    <tr>\n",
       "      <th>4</th>\n",
       "      <td>198</td>\n",
       "      <td>https://www.google.com/search?q=+pedestrian+ve...</td>\n",
       "    </tr>\n",
       "    <tr>\n",
       "      <th>5</th>\n",
       "      <td>114</td>\n",
       "      <td>https://www.google.com/search?q=+pedestrian+wh...</td>\n",
       "    </tr>\n",
       "    <tr>\n",
       "      <th>6</th>\n",
       "      <td>419</td>\n",
       "      <td>https://www.google.com/search?q=pedestrian+int...</td>\n",
       "    </tr>\n",
       "    <tr>\n",
       "      <th>7</th>\n",
       "      <td>294</td>\n",
       "      <td>https://www.google.com/search?q=+pedestrian+fi...</td>\n",
       "    </tr>\n",
       "    <tr>\n",
       "      <th>8</th>\n",
       "      <td>388</td>\n",
       "      <td>https://www.google.com/search?q=pedestrian+dis...</td>\n",
       "    </tr>\n",
       "    <tr>\n",
       "      <th>9</th>\n",
       "      <td>314</td>\n",
       "      <td>https://www.google.com/search?q=pedestrian+int...</td>\n",
       "    </tr>\n",
       "    <tr>\n",
       "      <th>10</th>\n",
       "      <td>98</td>\n",
       "      <td>https://www.google.com/search?q=pedestrian+mar...</td>\n",
       "    </tr>\n",
       "    <tr>\n",
       "      <th>11</th>\n",
       "      <td>80</td>\n",
       "      <td>https://www.google.com/search?q=pedestrian+veh...</td>\n",
       "    </tr>\n",
       "    <tr>\n",
       "      <th>12</th>\n",
       "      <td>134</td>\n",
       "      <td>https://www.google.com/search?q=pedestrian+ont...</td>\n",
       "    </tr>\n",
       "    <tr>\n",
       "      <th>13</th>\n",
       "      <td>432</td>\n",
       "      <td>https://www.google.com/search?q=pedestrian+ali...</td>\n",
       "    </tr>\n",
       "    <tr>\n",
       "      <th>14</th>\n",
       "      <td>394</td>\n",
       "      <td>https://www.google.com/search?q=pedestrian+foo...</td>\n",
       "    </tr>\n",
       "    <tr>\n",
       "      <th>15</th>\n",
       "      <td>53</td>\n",
       "      <td>https://www.google.com/search?q=pedestrian+cem...</td>\n",
       "    </tr>\n",
       "    <tr>\n",
       "      <th>16</th>\n",
       "      <td>56</td>\n",
       "      <td>https://www.google.com/search?q=pedestrian+tra...</td>\n",
       "    </tr>\n",
       "    <tr>\n",
       "      <th>17</th>\n",
       "      <td>150</td>\n",
       "      <td>https://www.google.com/search?q=+pedestrian+in...</td>\n",
       "    </tr>\n",
       "    <tr>\n",
       "      <th>18</th>\n",
       "      <td>278</td>\n",
       "      <td>https://www.google.com/search?q=+pedestrian+pr...</td>\n",
       "    </tr>\n",
       "    <tr>\n",
       "      <th>19</th>\n",
       "      <td>-1</td>\n",
       "      <td>https://www.google.com/search?q=+pedestrian+he...</td>\n",
       "    </tr>\n",
       "    <tr>\n",
       "      <th>20</th>\n",
       "      <td>43</td>\n",
       "      <td>https://www.google.com/search?q=+pedestrian+ra...</td>\n",
       "    </tr>\n",
       "    <tr>\n",
       "      <th>21</th>\n",
       "      <td>265</td>\n",
       "      <td>https://www.google.com/search?q=+pedestrian+ca...</td>\n",
       "    </tr>\n",
       "    <tr>\n",
       "      <th>22</th>\n",
       "      <td>345</td>\n",
       "      <td>https://www.google.com/search?q=+pedestrian+ha...</td>\n",
       "    </tr>\n",
       "    <tr>\n",
       "      <th>23</th>\n",
       "      <td>378</td>\n",
       "      <td>https://www.google.com/search?q=+pedestrian+ar...</td>\n",
       "    </tr>\n",
       "    <tr>\n",
       "      <th>24</th>\n",
       "      <td>11</td>\n",
       "      <td>https://www.google.com/search?q=pedestrian+int...</td>\n",
       "    </tr>\n",
       "    <tr>\n",
       "      <th>25</th>\n",
       "      <td>331</td>\n",
       "      <td>https://www.google.com/search?q=pedestrian+int...</td>\n",
       "    </tr>\n",
       "    <tr>\n",
       "      <th>26</th>\n",
       "      <td>202</td>\n",
       "      <td>https://www.google.com/search?q=pedestrian+dow...</td>\n",
       "    </tr>\n",
       "    <tr>\n",
       "      <th>27</th>\n",
       "      <td>169</td>\n",
       "      <td>https://www.google.com/search?q=pedestrian+hou...</td>\n",
       "    </tr>\n",
       "    <tr>\n",
       "      <th>28</th>\n",
       "      <td>327</td>\n",
       "      <td>https://www.google.com/search?q=pedestrian+laz...</td>\n",
       "    </tr>\n",
       "    <tr>\n",
       "      <th>29</th>\n",
       "      <td>309</td>\n",
       "      <td>https://www.google.com/search?q=pedestrian+clo...</td>\n",
       "    </tr>\n",
       "    <tr>\n",
       "      <th>30</th>\n",
       "      <td>68</td>\n",
       "      <td>https://www.google.com/search?q=pedestrian+car...</td>\n",
       "    </tr>\n",
       "    <tr>\n",
       "      <th>31</th>\n",
       "      <td>216</td>\n",
       "      <td>https://www.google.com/search?q=+pedestrian+m1...</td>\n",
       "    </tr>\n",
       "    <tr>\n",
       "      <th>32</th>\n",
       "      <td>40</td>\n",
       "      <td>https://www.google.com/search?q=pedestrian+pol...</td>\n",
       "    </tr>\n",
       "    <tr>\n",
       "      <th>33</th>\n",
       "      <td>99</td>\n",
       "      <td>https://www.google.com/search?q=+pedestrian+st...</td>\n",
       "    </tr>\n",
       "    <tr>\n",
       "      <th>34</th>\n",
       "      <td>426</td>\n",
       "      <td>https://www.google.com/search?q=+pedestrian+ve...</td>\n",
       "    </tr>\n",
       "    <tr>\n",
       "      <th>35</th>\n",
       "      <td>344</td>\n",
       "      <td>https://www.google.com/search?q=+pedestrian+ad...</td>\n",
       "    </tr>\n",
       "    <tr>\n",
       "      <th>36</th>\n",
       "      <td>47</td>\n",
       "      <td>https://www.google.com/search?q=+pedestrian+br...</td>\n",
       "    </tr>\n",
       "    <tr>\n",
       "      <th>37</th>\n",
       "      <td>8</td>\n",
       "      <td>https://www.google.com/search?q=+pedestrian+bi...</td>\n",
       "    </tr>\n",
       "    <tr>\n",
       "      <th>38</th>\n",
       "      <td>416</td>\n",
       "      <td>https://www.google.com/search?q=pedestrian+pix...</td>\n",
       "    </tr>\n",
       "    <tr>\n",
       "      <th>39</th>\n",
       "      <td>112</td>\n",
       "      <td>https://www.google.com/search?q=pedestrian+pas...</td>\n",
       "    </tr>\n",
       "    <tr>\n",
       "      <th>40</th>\n",
       "      <td>137</td>\n",
       "      <td>https://www.google.com/search?q=+pedestrian+mo...</td>\n",
       "    </tr>\n",
       "    <tr>\n",
       "      <th>41</th>\n",
       "      <td>441</td>\n",
       "      <td>https://www.google.com/search?q=+pedestrian+ch...</td>\n",
       "    </tr>\n",
       "    <tr>\n",
       "      <th>42</th>\n",
       "      <td>192</td>\n",
       "      <td>https://www.google.com/search?q=pedestrian+sym...</td>\n",
       "    </tr>\n",
       "    <tr>\n",
       "      <th>43</th>\n",
       "      <td>20</td>\n",
       "      <td>https://www.google.com/search?q=+pedestrian+to...</td>\n",
       "    </tr>\n",
       "    <tr>\n",
       "      <th>44</th>\n",
       "      <td>296</td>\n",
       "      <td>https://www.google.com/search?q=pedestrian+wil...</td>\n",
       "    </tr>\n",
       "    <tr>\n",
       "      <th>45</th>\n",
       "      <td>144</td>\n",
       "      <td>https://www.google.com/search?q=pedestrian++se...</td>\n",
       "    </tr>\n",
       "    <tr>\n",
       "      <th>46</th>\n",
       "      <td>12</td>\n",
       "      <td>https://www.google.com/search?q=pedestrian+app...</td>\n",
       "    </tr>\n",
       "    <tr>\n",
       "      <th>47</th>\n",
       "      <td>224</td>\n",
       "      <td>https://www.google.com/search?q=pedestrian+tra...</td>\n",
       "    </tr>\n",
       "    <tr>\n",
       "      <th>48</th>\n",
       "      <td>250</td>\n",
       "      <td>https://www.google.com/search?q=+pedestrian+us...</td>\n",
       "    </tr>\n",
       "    <tr>\n",
       "      <th>49</th>\n",
       "      <td>376</td>\n",
       "      <td>https://www.google.com/search?q=+pedestrian+mi...</td>\n",
       "    </tr>\n",
       "  </tbody>\n",
       "</table>\n",
       "</div>"
      ],
      "text/plain": [
       "    key                                              links\n",
       "0   196  https://www.google.com/search?q=pedestrian+cro...\n",
       "1   412  https://www.google.com/search?q=+pedestrian+pe...\n",
       "2   172  https://www.google.com/search?q=+pedestrian+ve...\n",
       "3   363  https://www.google.com/search?q=+pedestrian+in...\n",
       "4   198  https://www.google.com/search?q=+pedestrian+ve...\n",
       "5   114  https://www.google.com/search?q=+pedestrian+wh...\n",
       "6   419  https://www.google.com/search?q=pedestrian+int...\n",
       "7   294  https://www.google.com/search?q=+pedestrian+fi...\n",
       "8   388  https://www.google.com/search?q=pedestrian+dis...\n",
       "9   314  https://www.google.com/search?q=pedestrian+int...\n",
       "10   98  https://www.google.com/search?q=pedestrian+mar...\n",
       "11   80  https://www.google.com/search?q=pedestrian+veh...\n",
       "12  134  https://www.google.com/search?q=pedestrian+ont...\n",
       "13  432  https://www.google.com/search?q=pedestrian+ali...\n",
       "14  394  https://www.google.com/search?q=pedestrian+foo...\n",
       "15   53  https://www.google.com/search?q=pedestrian+cem...\n",
       "16   56  https://www.google.com/search?q=pedestrian+tra...\n",
       "17  150  https://www.google.com/search?q=+pedestrian+in...\n",
       "18  278  https://www.google.com/search?q=+pedestrian+pr...\n",
       "19   -1  https://www.google.com/search?q=+pedestrian+he...\n",
       "20   43  https://www.google.com/search?q=+pedestrian+ra...\n",
       "21  265  https://www.google.com/search?q=+pedestrian+ca...\n",
       "22  345  https://www.google.com/search?q=+pedestrian+ha...\n",
       "23  378  https://www.google.com/search?q=+pedestrian+ar...\n",
       "24   11  https://www.google.com/search?q=pedestrian+int...\n",
       "25  331  https://www.google.com/search?q=pedestrian+int...\n",
       "26  202  https://www.google.com/search?q=pedestrian+dow...\n",
       "27  169  https://www.google.com/search?q=pedestrian+hou...\n",
       "28  327  https://www.google.com/search?q=pedestrian+laz...\n",
       "29  309  https://www.google.com/search?q=pedestrian+clo...\n",
       "30   68  https://www.google.com/search?q=pedestrian+car...\n",
       "31  216  https://www.google.com/search?q=+pedestrian+m1...\n",
       "32   40  https://www.google.com/search?q=pedestrian+pol...\n",
       "33   99  https://www.google.com/search?q=+pedestrian+st...\n",
       "34  426  https://www.google.com/search?q=+pedestrian+ve...\n",
       "35  344  https://www.google.com/search?q=+pedestrian+ad...\n",
       "36   47  https://www.google.com/search?q=+pedestrian+br...\n",
       "37    8  https://www.google.com/search?q=+pedestrian+bi...\n",
       "38  416  https://www.google.com/search?q=pedestrian+pix...\n",
       "39  112  https://www.google.com/search?q=pedestrian+pas...\n",
       "40  137  https://www.google.com/search?q=+pedestrian+mo...\n",
       "41  441  https://www.google.com/search?q=+pedestrian+ch...\n",
       "42  192  https://www.google.com/search?q=pedestrian+sym...\n",
       "43   20  https://www.google.com/search?q=+pedestrian+to...\n",
       "44  296  https://www.google.com/search?q=pedestrian+wil...\n",
       "45  144  https://www.google.com/search?q=pedestrian++se...\n",
       "46   12  https://www.google.com/search?q=pedestrian+app...\n",
       "47  224  https://www.google.com/search?q=pedestrian+tra...\n",
       "48  250  https://www.google.com/search?q=+pedestrian+us...\n",
       "49  376  https://www.google.com/search?q=+pedestrian+mi..."
      ]
     },
     "execution_count": 3,
     "metadata": {},
     "output_type": "execute_result"
    }
   ],
   "source": [
    "import pandas as pd\n",
    "df = pd.read_csv('topics.txt')\n",
    "print(df.loc[0]['links'],df.loc[0]['key'])\n",
    "df"
   ]
  },
  {
   "cell_type": "code",
   "execution_count": 4,
   "id": "34af372a",
   "metadata": {
    "scrolled": true
   },
   "outputs": [
    {
     "name": "stderr",
     "output_type": "stream",
     "text": [
      "0it [00:00, ?it/s]C:\\Users\\Fatemeh\\AppData\\Local\\Temp/ipykernel_57620/2653360796.py:3: DeprecationWarning: executable_path has been deprecated, please pass in a Service object\n",
      "  wd = webdriver.Chrome('./chromedriver')\n"
     ]
    },
    {
     "name": "stdout",
     "output_type": "stream",
     "text": [
      "https://www.google.com/search?q=pedestrian+cross+pedestrian+stripe+crossing+crosswalk+signal+traffic+pedestrian&hl=en&tbm=isch&sxsrf=ALiCzsZEJ6arMNSkiJMOJpJY7O2JrTSeQA%3A1660921999166&source=hp&biw=911&bih=699&ei=j6j_YvqcAsar0PEPvKq3qAQ&iflsig=AJiK0e8AAAAAYv-2n1v_RuOk6Bga8252Kp7r0kNZsEgJ&ved=0ahUKEwi6oILOmNP5AhXGFTQIHTzVDUUQ4dUDCAc&uact=5&oq=pedestrian+cross+pedestrian+stripe+crossing+crosswalk+signal+traffic+pedestrian&gs_lcp=CgNpbWcQAzIECCMQJ1AAWABgpQNoAHAAeACAAUCIAUCSAQExmAEAoAECoAEBqgELZ3dzLXdpei1pbWc&sclient=img\n"
     ]
    },
    {
     "name": "stderr",
     "output_type": "stream",
     "text": [
      "\r",
      "1it [04:00, 240.63s/it]"
     ]
    },
    {
     "name": "stdout",
     "output_type": "stream",
     "text": [
      "153\n",
      "https://www.google.com/search?q=+pedestrian+perp+walkable+walkability+pers+pedestrian+arrest+walk+pedestrian&tbm=isch&ved=2ahUKEwioy4bQmNP5AhX7g2oFHQEJCM0Q2-cCegQIABAA&oq=+pedestrian+perp+walkable+walkability+pers+pedestrian+arrest+walk+pedestrian&gs_lcp=CgNpbWcQAzIECCMQJ1CIEliIEmCnFmgAcAB4AIABRYgBiAGSAQEymAEAoAEBqgELZ3dzLXdpei1pbWfAAQE&sclient=img&ei=k6j_Yui1EvuHqtsPgZKg6Aw&bih=699&biw=911&hl=en\n"
     ]
    },
    {
     "name": "stderr",
     "output_type": "stream",
     "text": [
      "\r",
      "2it [08:26, 255.25s/it]"
     ]
    },
    {
     "name": "stdout",
     "output_type": "stream",
     "text": [
      "106\n",
      "https://www.google.com/search?q=+pedestrian+vehicle+road+pedestrian+transportation+car+lane+street+traffic+pedestrian&tbm=isch&ved=2ahUKEwjp-LTfmNP5AhXAlWoFHWfIBP8Q2-cCegQIABAA&oq=+pedestrian+vehicle+road+pedestrian+transportation+car+lane+street+traffic+pedestrian&gs_lcp=CgNpbWcQAzIECCMQJ1AAWABg9ghoAHAAeACAAVaIAVaSAQExmAEAoAEBqgELZ3dzLXdpei1pbWfAAQE&sclient=img&ei=s6j_YqnTH8CrqtsP55CT-A8&bih=699&biw=911&hl=en\n"
     ]
    },
    {
     "name": "stderr",
     "output_type": "stream",
     "text": [
      "\r",
      "3it [11:22, 219.07s/it]"
     ]
    },
    {
     "name": "stdout",
     "output_type": "stream",
     "text": [
      "177\n",
      "https://www.google.com/search?q=+pedestrian+intervention+stalk+stalker+witness+victim+assault+bystander+intervene+pedestrian&tbm=isch&ved=2ahUKEwj3zMKZmdP5AhWmkGoFHfBeBJsQ2-cCegQIABAA&oq=+pedestrian+intervention+stalk+stalker+witness+victim+assault+bystander+intervene+pedestrian&gs_lcp=CgNpbWcQAzIECCMQJ1AAWABgpwhoAHAAeACAAWOIAWOSAQExmAEAoAEBqgELZ3dzLXdpei1pbWfAAQE&sclient=img&ei=Lan_YreCF6ahqtsP8L2R2Ak&bih=699&biw=911&hl=en\n"
     ]
    },
    {
     "name": "stderr",
     "output_type": "stream",
     "text": [
      "\r",
      "4it [14:25, 205.10s/it]"
     ]
    },
    {
     "name": "stdout",
     "output_type": "stream",
     "text": [
      "30\n",
      "https://www.google.com/search?q=+pedestrian+vehicle+tow+park+parking+car+parkjockey+garage+pedestrian&hl=en&tbm=isch&sxsrf=ALiCzsb0m2Tjzkk0pZvcuP_YNti_W_wdPw%3A1661006169242&source=hp&biw=911&bih=697&ei=WfEAY4WUDJKB0PEP-5-I-AY&iflsig=AJiK0e8AAAAAYwD_ae9QERd5qMwkia-a6xM_Feay8TBQ&ved=0ahUKEwjFpL2V0tX5AhWSADQIHfsPAm8Q4dUDCAc&uact=5&oq=+pedestrian+vehicle+tow+park+parking+car+parkjockey+garage+pedestrian&gs_lcp=CgNpbWcQAzIECCMQJ1AAWABgvQJoAHAAeACAAUKIAUKSAQExmAEAoAECoAEBqgELZ3dzLXdpei1pbWc&sclient=img\n"
     ]
    },
    {
     "name": "stderr",
     "output_type": "stream",
     "text": [
      "\r",
      "5it [17:17, 193.19s/it]"
     ]
    },
    {
     "name": "stdout",
     "output_type": "stream",
     "text": [
      "80\n",
      "https://www.google.com/search?q=+pedestrian+wheelchair+athlete+sportspeople+paralympics+paralympic+disability+sport+pedestrian&tbm=isch&ved=2ahUKEwiuprWW0tX5AhUclmoFHRtJCl8Q2-cCegQIABAA&oq=+pedestrian+wheelchair+athlete+sportspeople+paralympics+paralympic+disability+sport+pedestrian&gs_lcp=CgNpbWcQAzIECCMQJ1AAWABguQJoAHAAeACAAVaIAVaSAQExmAEAoAEBqgELZ3dzLXdpei1pbWfAAQE&sclient=img&ei=W_EAY-6MCpysqtsPm5Kp-AU&bih=697&biw=911&hl=en\n"
     ]
    },
    {
     "name": "stderr",
     "output_type": "stream",
     "text": [
      "\r",
      "6it [20:25, 191.40s/it]"
     ]
    },
    {
     "name": "stdout",
     "output_type": "stream",
     "text": [
      "142\n",
      "https://www.google.com/search?q=pedestrian+intersection+road+avenue+suffix+manhattan+street+boulevard+pedestrian&tbm=isch&ved=2ahUKEwik9Kef0tX5AhUEnGoFHengDEgQ2-cCegQIABAA&oq=pedestrian+intersection+road+avenue+suffix+manhattan+street+boulevard+pedestrian&gs_lcp=CgNpbWcQAzIECCMQJ1AAWMIXYNAcaABwAHgAgAGaAYgB4AGSAQMxLjGYAQCgAQGqAQtnd3Mtd2l6LWltZ8ABAQ&sclient=img&ei=bfEAY-SJMoS4qtsP6cGzwAQ&bih=697&biw=911&hl=en\n"
     ]
    },
    {
     "name": "stderr",
     "output_type": "stream",
     "text": [
      "\r",
      "7it [23:21, 186.40s/it]"
     ]
    },
    {
     "name": "stdout",
     "output_type": "stream",
     "text": [
      "100\n",
      "https://www.google.com/search?q=+pedestrian+fine+penalty+reckless+violation+ticket+drive+speed+offence+licence+traffic+pedestrian&tbm=isch&ved=2ahUKEwjv_4Op0tX5AhWQk2oFHcITAJ8Q2-cCegQIABAA&oq=+pedestrian+fine+penalty+reckless+violation+ticket+drive+speed+offence+licence+traffic+pedestrian&gs_lcp=CgNpbWcQAzIECCMQJ1DcCVjcCWCoDWgAcAB4AIABSYgBkAGSAQEymAEAoAEBqgELZ3dzLXdpei1pbWfAAQE&sclient=img&ei=gvEAY--2DJCnqtsPwqeA-Ak&bih=697&biw=911&hl=en\n"
     ]
    },
    {
     "name": "stderr",
     "output_type": "stream",
     "text": [
      "\r",
      "8it [26:15, 182.33s/it]"
     ]
    },
    {
     "name": "stdout",
     "output_type": "stream",
     "text": [
      "175\n",
      "https://www.google.com/search?q=pedestrian+distribution+diffusion+markov+wiener+walk+step+percolation+brownian+stochastic+pedestrian&tbm=isch&ved=2ahUKEwjvipuw0tX5AhVwkGoFHQKrDN8Q2-cCegQIABAA&oq=pedestrian+distribution+diffusion+markov+wiener+walk+step+percolation+brownian+stochastic+pedestrian&gs_lcp=CgNpbWcQAzIECCMQJ1AAWABgvghoAHAAeACAAUmIAUmSAQExmAEAoAEBqgELZ3dzLXdpei1pbWfAAQE&sclient=img&ei=kfEAY6_-D_CgqtsPgtay-A0&bih=697&biw=911&hl=en\n"
     ]
    },
    {
     "name": "stderr",
     "output_type": "stream",
     "text": [
      "\r",
      "9it [29:00, 177.05s/it]"
     ]
    },
    {
     "name": "stdout",
     "output_type": "stream",
     "text": [
      "83\n",
      "https://www.google.com/search?q=pedestrian+intersection+roundabout+junction+road+lane+interchange+circle+traffic+pedestrian&tbm=isch&ved=2ahUKEwiCx_a40tX5AhUEg2oFHdq4B-QQ2-cCegQIABAA&oq=pedestrian+intersection+roundabout+junction+road+lane+interchange+circle+traffic+pedestrian&gs_lcp=CgNpbWcQAzIECCMQJ1DcEFjcEGD_FWgAcAB4AIABWIgBrQGSAQEymAEAoAEBqgELZ3dzLXdpei1pbWfAAQE&sclient=img&ei=o_EAY8LpIISGqtsP2vGeoA4&bih=697&biw=911&hl=en\n"
     ]
    },
    {
     "name": "stderr",
     "output_type": "stream",
     "text": [
      "\r",
      "10it [31:58, 177.28s/it]"
     ]
    },
    {
     "name": "stdout",
     "output_type": "stream",
     "text": [
      "140\n",
      "https://www.google.com/search?q=pedestrian+marker+sign+road+cross+direction+signage+parking+lane+traffic+pedestrian&tbm=isch&ved=2ahUKEwikz4LJ0tX5AhUUlmoFHSt6A8QQ2-cCegQIABAA&oq=pedestrian+marker+sign+road+cross+direction+signage+parking+lane+traffic+pedestrian&gs_lcp=CgNpbWcQAzIECCMQJ1D5C1j5C2DNFGgAcAB4AIABVogBpAGSAQEymAEAoAEBqgELZ3dzLXdpei1pbWfAAQE&sclient=img&ei=xfEAY-TYEZSsqtsPq_SNoAw&bih=697&biw=911&hl=en\n"
     ]
    },
    {
     "name": "stderr",
     "output_type": "stream",
     "text": [
      "\r",
      "11it [35:06, 180.54s/it]"
     ]
    },
    {
     "name": "stdout",
     "output_type": "stream",
     "text": [
      "116\n",
      "https://www.google.com/search?q=pedestrian+vehicle+nhtsa+momentum+brake+collision+drive+velocity+accident+fatality+pedestrian&tbm=isch&ved=2ahUKEwis263U0tX5AhVylWoFHYoJAz0Q2-cCegQIABAA&oq=pedestrian+vehicle+nhtsa+momentum+brake+collision+drive+velocity+accident+fatality+pedestrian&gs_lcp=CgNpbWcQAzIECCMQJ1ClCVilCWChDGgAcAB4AIABTIgBjwGSAQEymAEAoAEBqgELZ3dzLXdpei1pbWfAAQE&sclient=img&ei=3fEAY-z4A_KqqtsPipOM6AM&bih=697&biw=911&hl=en\n"
     ]
    },
    {
     "name": "stderr",
     "output_type": "stream",
     "text": [
      "\r",
      "12it [38:08, 181.03s/it]"
     ]
    },
    {
     "name": "stdout",
     "output_type": "stream",
     "text": [
      "121\n",
      "https://www.google.com/search?q=pedestrian+ontario+edmonton+highway+freeway+gardiner+road+avenue+toronto+expressway+lane+pedestrian&tbm=isch&ved=2ahUKEwiA5ord0tX5AhWUg2oFHYb7D-8Q2-cCegQIABAA&oq=pedestrian+ontario+edmonton+highway+freeway+gardiner+road+avenue+toronto+expressway+lane+pedestrian&gs_lcp=CgNpbWcQAzIECCMQJ1CjCVijCWCADGgAcAB4AIABgAGIAc8BkgEDMS4xmAEAoAEBqgELZ3dzLXdpei1pbWfAAQE&sclient=img&ei=7_EAY8CyFpSHqtsPhve_-A4&bih=697&biw=911&hl=en\n"
     ]
    },
    {
     "name": "stderr",
     "output_type": "stream",
     "text": [
      "\r",
      "13it [41:12, 181.68s/it]"
     ]
    },
    {
     "name": "stdout",
     "output_type": "stream",
     "text": [
      "107\n",
      "https://www.google.com/search?q=pedestrian+alice+novel+walker+poetry+poem+fiction+book+pulitzer+pedestrian&tbm=isch&ved=2ahUKEwid5q7m0tX5AhVAkGoFHZKjAEAQ2-cCegQIABAA&oq=pedestrian+alice+novel+walker+poetry+poem+fiction+book+pulitzer+pedestrian&gs_lcp=CgNpbWcQAzIECCMQJ1CAC1iAC2CTD2gAcAB4AIABWogBrgGSAQEymAEAoAEBqgELZ3dzLXdpei1pbWfAAQE&sclient=img&ei=AvIAY53dMsCgqtsPkseCgAQ&bih=697&biw=911&hl=en\n"
     ]
    },
    {
     "name": "stderr",
     "output_type": "stream",
     "text": [
      "\r",
      "14it [44:19, 183.39s/it]"
     ]
    },
    {
     "name": "stdout",
     "output_type": "stream",
     "text": [
      "137\n",
      "https://www.google.com/search?q=pedestrian+footpath+path+bridleway+alley+bridleways+boulevard+pedestrian&tbm=isch&ved=2ahUKEwjbgf7t0tX5AhXGj2oFHQGHDwoQ2-cCegQIABAA&oq=pedestrian+footpath+path+bridleway+alley+bridleways+boulevard+pedestrian&gs_lcp=CgNpbWcQAzIECCMQJ1DDCFjDCGCXC2gAcAB4AIABUIgBngGSAQEymAEAoAEBqgELZ3dzLXdpei1pbWfAAQE&sclient=img&ei=EvIAY9uwMcafqtsPgY6-UA&bih=697&biw=911&hl=en\n"
     ]
    },
    {
     "name": "stderr",
     "output_type": "stream",
     "text": [
      "\r",
      "15it [47:45, 190.20s/it]"
     ]
    },
    {
     "name": "stdout",
     "output_type": "stream",
     "text": [
      "107\n",
      "https://www.google.com/search?q=pedestrian+cement+pothole+pavement+concrete+pave+road+sand+gravel+asphalt+pedestrian&tbm=isch&ved=2ahUKEwih6OH30tX5AhWbomoFHVDBCXMQ2-cCegQIABAA&oq=pedestrian+cement+pothole+pavement+concrete+pave+road+sand+gravel+asphalt+pedestrian&gs_lcp=CgNpbWcQAzIECCMQJ1CQCViQCWDkC2gAcAB4AIABTogBkgGSAQEymAEAoAEBqgELZ3dzLXdpei1pbWfAAQE&sclient=img&ei=J_IAY-G4E5vFqtsP0IKnmAc&bih=697&biw=911&hl=en\n"
     ]
    },
    {
     "name": "stderr",
     "output_type": "stream",
     "text": [
      "\r",
      "16it [51:00, 191.70s/it]"
     ]
    },
    {
     "name": "stdout",
     "output_type": "stream",
     "text": [
      "97\n",
      "https://www.google.com/search?q=pedestrian+transit+streetcar+subway+tram+trolley+transportation+bus+train+pedestrian&tbm=isch&ved=2ahUKEwj-0oyC09X5AhUBkGoFHeVTDZ0Q2-cCegQIABAA&oq=pedestrian+transit+streetcar+subway+tram+trolley+transportation+bus+train+pedestrian&gs_lcp=CgNpbWcQAzIECCMQJ1CUCViUCWCgDGgAcAB4AIABRogBfpIBATKYAQCgAQGqAQtnd3Mtd2l6LWltZ8ABAQ&sclient=img&ei=PPIAY_7EPIGgqtsP5ae16Ak&bih=697&biw=911&hl=en\n"
     ]
    },
    {
     "name": "stderr",
     "output_type": "stream",
     "text": [
      "\r",
      "17it [54:07, 190.22s/it]"
     ]
    },
    {
     "name": "stdout",
     "output_type": "stream",
     "text": [
      "152\n",
      "https://www.google.com/search?q=+pedestrian+intersection+highway+freeway+road+lane+traffic+ramp+pedestrian&tbm=isch&ved=2ahUKEwjguLOK09X5AhWXj2oFHb5IB-YQ2-cCegQIABAA&oq=+pedestrian+intersection+highway+freeway+road+lane+traffic+ramp+pedestrian&gs_lcp=CgNpbWcQAzIECCMQJ1DfC1jfC2D7DmgAcAB4AIABcIgBwQGSAQMxLjGYAQCgAQGqAQtnd3Mtd2l6LWltZ8ABAQ&sclient=img&ei=TvIAY-DZGJefqtsPvpGdsA4&bih=697&biw=911&hl=en\n"
     ]
    },
    {
     "name": "stderr",
     "output_type": "stream",
     "text": [
      "\r",
      "18it [57:07, 187.27s/it]"
     ]
    },
    {
     "name": "stdout",
     "output_type": "stream",
     "text": [
      "133\n",
      "https://www.google.com/search?q=+pedestrian+promenade+park+promenadef+walk+promenaden+promener+deck+pedestrian&tbm=isch&ved=2ahUKEwjLrcOV09X5AhWummoFHTcjCg0Q2-cCegQIABAA&oq=+pedestrian+promenade+park+promenadef+walk+promenaden+promener+deck+pedestrian&gs_lcp=CgNpbWcQAzIECCMQJ1AAWABgvAVoAHAAeACAAWCIAWCSAQExmAEAoAEBqgELZ3dzLXdpei1pbWfAAQE&sclient=img&ei=ZfIAY4vnLK61qtsPt8aoaA&bih=697&biw=911&hl=en\n"
     ]
    },
    {
     "name": "stderr",
     "output_type": "stream",
     "text": [
      "\r",
      "19it [59:24, 172.11s/it]"
     ]
    },
    {
     "name": "stdout",
     "output_type": "stream",
     "text": [
      "34\n",
      "https://www.google.com/search?q=+pedestrian+her+state+century+water+film+public+street+american+example+pedestrian&tbm=isch&ved=2ahUKEwi1hL6c09X5AhXRmWoFHWBwCt0Q2-cCegQIABAA&oq=+pedestrian+her+state+century+water+film+public+street+american+example+pedestrian&gs_lcp=CgNpbWcQAzIECCMQJ1AAWABgugZoAHAAeACAAVaIAVaSAQExmAEAoAEBqgELZ3dzLXdpei1pbWfAAQE&sclient=img&ei=dPIAY7X6E9GzqtsP4OCp6A0&bih=697&biw=911&hl=en\n"
     ]
    },
    {
     "name": "stderr",
     "output_type": "stream",
     "text": [
      "\r",
      "20it [1:02:29, 175.95s/it]"
     ]
    },
    {
     "name": "stdout",
     "output_type": "stream",
     "text": [
      "158\n",
      "https://www.google.com/search?q=+pedestrian+race+segregation+protest+protester+black+white+civil+negro+racial+pedestrian&tbm=isch&ved=2ahUKEwiK9JOo09X5AhUKs2oFHchoD4gQ2-cCegQIABAA&oq=+pedestrian+race+segregation+protest+protester+black+white+civil+negro+racial+pedestrian&gs_lcp=CgNpbWcQAzIECCMQJ1AAWABg_gVoAHAAeACAAV-IAV-SAQExmAEAoAEBqgELZ3dzLXdpei1pbWfAAQE&sclient=img&ei=jPIAY4r-MIrmqtsPyNG9wAg&bih=697&biw=911&hl=en\n"
     ]
    },
    {
     "name": "stderr",
     "output_type": "stream",
     "text": [
      "\r",
      "21it [1:05:25, 176.05s/it]"
     ]
    },
    {
     "name": "stdout",
     "output_type": "stream",
     "text": [
      "161\n",
      "https://www.google.com/search?q=+pedestrian+carriage+diaper+harness+hatch+baby+infant+stroller+child+pedestrian&tbm=isch&ved=2ahUKEwjF1rKw09X5AhW7mmoFHTUIAxoQ2-cCegQIABAA&oq=+pedestrian+carriage+diaper+harness+hatch+baby+infant+stroller+child+pedestrian&gs_lcp=CgNpbWcQAzIECCMQJ1AAWABg9gJoAHAAeACAAT6IAT6SAQExmAEAoAEBqgELZ3dzLXdpei1pbWfAAQE&sclient=img&ei=nvIAY8WPBbu1qtsPtZCM0AE&bih=697&biw=911&hl=en\n"
     ]
    },
    {
     "name": "stderr",
     "output_type": "stream",
     "text": [
      "\r",
      "22it [1:08:27, 177.74s/it]"
     ]
    },
    {
     "name": "stdout",
     "output_type": "stream",
     "text": [
      "73\n",
      "https://www.google.com/search?q=+pedestrian+hazard+guardrail+barrier+rail+protect+bumper+safety+pedestrian&tbm=isch&ved=2ahUKEwjD4--409X5AhVykGoFHQemB-oQ2-cCegQIABAA&oq=+pedestrian+hazard+guardrail+barrier+rail+protect+bumper+safety+pedestrian&gs_lcp=CgNpbWcQAzIECCMQJ1AAWABg_AJoAHAAeACAAUSIAUSSAQExmAEAoAEBqgELZ3dzLXdpei1pbWfAAQE&sclient=img&ei=r_IAY4PQNPKgqtsPh8ye0A4&bih=697&biw=911&hl=en\n"
     ]
    },
    {
     "name": "stderr",
     "output_type": "stream",
     "text": [
      "\r",
      "23it [1:11:35, 180.83s/it]"
     ]
    },
    {
     "name": "stdout",
     "output_type": "stream",
     "text": [
      "98\n",
      "https://www.google.com/search?q=+pedestrian+architect+frederick+architecture+park+city+building+chicago+pedestrian&tbm=isch&ved=2ahUKEwiFz9bB09X5AhU0lmoFHTCYD_IQ2-cCegQIABAA&oq=+pedestrian+architect+frederick+architecture+park+city+building+chicago+pedestrian&gs_lcp=CgNpbWcQAzIECCMQJ1AAWABg8gJoAHAAeACAAU-IAU-SAQExmAEAoAEBqgELZ3dzLXdpei1pbWfAAQE&sclient=img&ei=wvIAY4XmE7SsqtsPsLC-kA8&bih=697&biw=911&hl=en\n"
     ]
    },
    {
     "name": "stderr",
     "output_type": "stream",
     "text": [
      "\r",
      "24it [1:14:42, 182.65s/it]"
     ]
    },
    {
     "name": "stdout",
     "output_type": "stream",
     "text": [
      "137\n",
      "https://www.google.com/search?q=pedestrian+intersection+highway+freeway+turnpike+route+road+interstate+terminus+lane+pedestrian&tbm=isch&ved=2ahUKEwik2PbI09X5AhWQkWoFHUq7AqcQ2-cCegQIABAA&oq=pedestrian+intersection+highway+freeway+turnpike+route+road+interstate+terminus+lane+pedestrian&gs_lcp=CgNpbWcQAzIECCMQJ1AAWABg6gJoAHAAeACAAViIAViSAQExmAEAoAEBqgELZ3dzLXdpei1pbWfAAQE&sclient=img&ei=0fIAY-SrIJCjqtsPyvaKuAo&bih=697&biw=911&hl=en\n"
     ]
    },
    {
     "name": "stderr",
     "output_type": "stream",
     "text": [
      "\r",
      "25it [1:17:44, 182.59s/it]"
     ]
    },
    {
     "name": "stdout",
     "output_type": "stream",
     "text": [
      "79\n",
      "https://www.google.com/search?q=pedestrian+intersection+highway+fpedestrian+highway+route+road+byway+navajo+scenic+parkway+roadway+pedestrianreeway+turnpike+route+road+interstate+terminus+lane+pedestrian&tbm=isch&ved=2ahUKEwin99DQ09X5AhXCg2oFHdkSDvcQ2-cCegQIABAA&oq=pedestrian+intersection+highway+fpedestrian+highway+route+road+byway+navajo+scenic+parkway+roadway+pedestrianreeway+turnpike+route+road+interstate+terminus+lane+pedestrian&gs_lcp=CgNpbWcQAzIECCMQJ1CeBlieBmDJDWgAcAB4AIABR4gBR5IBATGYAQCgAQGqAQtnd3Mtd2l6LWltZ8ABAQ&sclient=img&ei=4fIAY-eCKsKHqtsP2aW4uA8&bih=697&biw=911&hl=en\n"
     ]
    },
    {
     "name": "stderr",
     "output_type": "stream",
     "text": [
      "\r",
      "26it [1:20:52, 184.02s/it]"
     ]
    },
    {
     "name": "stdout",
     "output_type": "stream",
     "text": [
      "77\n",
      "https://www.google.com/search?q=pedestrian+downstream+vehicle+road+delay+congest+speed+congestion+traffic+bottleneck+pedestrian&tbm=isch&ved=2ahUKEwiDy5HZ09X5AhXTkWoFHSr_ACQQ2-cCegQIABAA&oq=pedestrian+downstream+vehicle+road+delay+congest+speed+congestion+traffic+bottleneck+pedestrian&gs_lcp=CgNpbWcQAzIECCMQJ1DmCFjmCGDmC2gAcAB4AIABRIgBRJIBATGYAQCgAQGqAQtnd3Mtd2l6LWltZ8ABAQ&sclient=img&ei=8_IAY8OFINOjqtsPqv6DoAI&bih=697&biw=911&hl=en\n"
     ]
    },
    {
     "name": "stderr",
     "output_type": "stream",
     "text": [
      "\r",
      "27it [1:23:58, 184.73s/it]"
     ]
    },
    {
     "name": "stdout",
     "output_type": "stream",
     "text": [
      "81\n",
      "https://www.google.com/search?q=pedestrian+house+apartment+condominium+homeless+shelter+home+homelessness+housing+household+pedestrian&tbm=isch&ved=2ahUKEwj-lebg09X5AhW-mGoFHQT7DiwQ2-cCegQIABAA&oq=pedestrian+house+apartment+condominium+homeless+shelter+home+homelessness+housing+household+pedestrian&gs_lcp=CgNpbWcQAzIECCMQJ1CpCVipCWChDGgAcAB4AIABTYgBTZIBATGYAQCgAQGqAQtnd3Mtd2l6LWltZ8ABAQ&sclient=img&ei=A_MAY76IJL6xqtsPhPa74AI&bih=697&biw=911&hl=en\n"
     ]
    },
    {
     "name": "stderr",
     "output_type": "stream",
     "text": [
      "\r",
      "28it [1:26:57, 182.88s/it]"
     ]
    },
    {
     "name": "stdout",
     "output_type": "stream",
     "text": [
      "177\n",
      "https://www.google.com/search?q=pedestrian+lazarus+bartholdi+pedestal+sculptor+liberty+torch+monument+sculpture+statue+pedestrian&tbm=isch&ved=2ahUKEwj4rujx09X5AhWllmoFHZBaC8AQ2-cCegQIABAA&oq=pedestrian+lazarus+bartholdi+pedestal+sculptor+liberty+torch+monument+sculpture+statue+pedestrian&gs_lcp=CgNpbWcQAzIECCMQJ1AAWABguwdoAHAAeACAAUWIAUWSAQExmAEAqgELZ3dzLXdpei1pbWfAAQE&sclient=img&ei=J_MAY7j_EKWtqtsPkLWtgAw&bih=697&biw=911&hl=en\n"
     ]
    },
    {
     "name": "stderr",
     "output_type": "stream",
     "text": [
      "\r",
      "29it [1:29:46, 178.97s/it]"
     ]
    },
    {
     "name": "stdout",
     "output_type": "stream",
     "text": [
      "65\n",
      "https://www.google.com/search?q=pedestrian+close+melbourne+geelong+rail+carriageworks+train+railway+adelaide+line+pedestrian&tbm=isch&ved=2ahUKEwjRkvn009X5AhURnGoFHUVBBf8Q2-cCegQIABAA&oq=pedestrian+close+melbourne+geelong+rail+carriageworks+train+railway+adelaide+line+pedestrian&gs_lcp=CgNpbWcQAzIECCMQJ1CcClicCmCGDWgAcAB4AIABRIgBhAGSAQEymAEAoAEBqgELZ3dzLXdpei1pbWfAAQE&sclient=img&ei=LfMAY5HIM5G4qtsPxYKV-A8&bih=697&biw=911&hl=en\n"
     ]
    },
    {
     "name": "stderr",
     "output_type": "stream",
     "text": [
      "\r",
      "30it [1:32:34, 175.60s/it]"
     ]
    },
    {
     "name": "stdout",
     "output_type": "stream",
     "text": [
      "96\n",
      "https://www.google.com/search?q=pedestrian+carriage+wheel+passenger+vehicle+wagon+axle+chariot+pedestrian&tbm=isch&ved=2ahUKEwj2x-X909X5AhXnj2oFHZHlAWMQ2-cCegQIABAA&oq=pedestrian+carriage+wheel+passenger+vehicle+wagon+axle+chariot+pedestrian&gs_lcp=CgNpbWcQAzIECCMQJ1DYCVjYCWChDGgAcAB4AIABSYgBjQGSAQEymAEAoAEBqgELZ3dzLXdpei1pbWfAAQE&sclient=img&ei=QPMAY_anGOefqtsPkcuHmAY&bih=697&biw=911&hl=en\n"
     ]
    },
    {
     "name": "stderr",
     "output_type": "stream",
     "text": [
      "\r",
      "31it [1:35:39, 178.24s/it]"
     ]
    },
    {
     "name": "stdout",
     "output_type": "stream",
     "text": [
      "118\n",
      "https://www.google.com/search?q=+pedestrian+m11+roundabout+motorway+m25+road+m1+lane+carriageway+m32+pedestrian&tbm=isch&ved=2ahUKEwjJs7KG1NX5AhWVkWoFHcZkDLQQ2-cCegQIABAA&oq=+pedestrian+m11+roundabout+motorway+m25+road+m1+lane+carriageway+m32+pedestrian&gs_lcp=CgNpbWcQAzIECCMQJ1C6CVi6CWCtDGgAcAB4AIABXYgBrwGSAQEymAEAoAEBqgELZ3dzLXdpei1pbWfAAQE&sclient=img&ei=UvMAY8nCGpWjqtsPxsmxoAs&bih=697&biw=911&hl=en\n"
     ]
    },
    {
     "name": "stderr",
     "output_type": "stream",
     "text": [
      "\r",
      "32it [1:38:30, 176.32s/it]"
     ]
    },
    {
     "name": "stdout",
     "output_type": "stream",
     "text": [
      "97\n",
      "https://www.google.com/search?q=pedestrian+police+patrol+arrest+officer+enforcement+constabulary+constable+pedestrian&tbm=isch&ved=2ahUKEwiX7-WN1NX5AhVtkWoFHX5QAMwQ2-cCegQIABAA&oq=pedestrian+police+patrol+arrest+officer+enforcement+constabulary+constable+pedestrian&gs_lcp=CgNpbWcQAzIECCMQJ1AAWABg8gJoAHAAeACAAUqIAUqSAQExmAEAoAEBqgELZ3dzLXdpei1pbWfAAQE&sclient=img&ei=YfMAY9e6Ou2iqtsP_qCB4Aw&bih=697&biw=911&hl=en\n"
     ]
    },
    {
     "name": "stderr",
     "output_type": "stream",
     "text": [
      "\r",
      "33it [1:41:29, 176.92s/it]"
     ]
    },
    {
     "name": "stdout",
     "output_type": "stream",
     "text": [
      "143\n",
      "https://www.google.com/search?q=+pedestrian+structure+concrete+masonry+insulation+building+roof+construction+wall+pedestrian&tbm=isch&ved=2ahUKEwjY-6eW1NX5AhWllmoFHUAKD24Q2-cCegQIABAA&oq=+pedestrian+structure+concrete+masonry+insulation+building+roof+construction+wall+pedestrian&gs_lcp=CgNpbWcQAzIECCMQJ1DEDVjEDWCYFWgAcAB4AIABVYgBowGSAQEymAEAoAEBqgELZ3dzLXdpei1pbWfAAQE&sclient=img&ei=c_MAY5j2MaWtqtsPwJS88AY&bih=697&biw=911&hl=en\n"
     ]
    },
    {
     "name": "stderr",
     "output_type": "stream",
     "text": [
      "\r",
      "34it [1:44:33, 179.15s/it]"
     ]
    },
    {
     "name": "stdout",
     "output_type": "stream",
     "text": [
      "147\n",
      "https://www.google.com/search?q=+pedestrian+vehicle+cv2x+80211p+v2v+unlock+vanet+v2x+vehicular+vanets+pedestrian&tbm=isch&ved=2ahUKEwjkmM2g1NX5AhVykGoFHQemB-oQ2-cCegQIABAA&oq=+pedestrian+vehicle+cv2x+80211p+v2v+unlock+vanet+v2x+vehicular+vanets+pedestrian&gs_lcp=CgNpbWcQAzIECCMQJ1AAWABg4gVoAHAAeACAAVSIAVSSAQExmAEAoAEBqgELZ3dzLXdpei1pbWfAAQE&sclient=img&ei=ifMAY6SwGPKgqtsPh8ye0A4&bih=697&biw=911&hl=en\n"
     ]
    },
    {
     "name": "stderr",
     "output_type": "stream",
     "text": [
      "34it [1:44:34, 184.56s/it]\n"
     ]
    },
    {
     "ename": "WebDriverException",
     "evalue": "Message: unknown error: net::ERR_INTERNET_DISCONNECTED\n  (Session info: chrome=104.0.5112.82)\nStacktrace:\nBacktrace:\n\tOrdinal0 [0x00646463+2188387]\n\tOrdinal0 [0x005DE461+1762401]\n\tOrdinal0 [0x004F3D78+802168]\n\tOrdinal0 [0x004F04E8+787688]\n\tOrdinal0 [0x004E654D+746829]\n\tOrdinal0 [0x004E710A+749834]\n\tOrdinal0 [0x004E675A+747354]\n\tOrdinal0 [0x004E5D3F+744767]\n\tOrdinal0 [0x004E4C28+740392]\n\tOrdinal0 [0x004E50FD+741629]\n\tOrdinal0 [0x004F5544+808260]\n\tOrdinal0 [0x0054D2DD+1168093]\n\tOrdinal0 [0x0053C7DC+1099740]\n\tOrdinal0 [0x0054CC22+1166370]\n\tOrdinal0 [0x0053C5F6+1099254]\n\tOrdinal0 [0x00516BE0+945120]\n\tOrdinal0 [0x00517AD6+948950]\n\tGetHandleVerifier [0x008E71F2+2712546]\n\tGetHandleVerifier [0x008D886D+2652765]\n\tGetHandleVerifier [0x006D002A+520730]\n\tGetHandleVerifier [0x006CEE06+516086]\n\tOrdinal0 [0x005E468B+1787531]\n\tOrdinal0 [0x005E8E88+1805960]\n\tOrdinal0 [0x005E8F75+1806197]\n\tOrdinal0 [0x005F1DF1+1842673]\n\tBaseThreadInitThunk [0x76E76739+25]\n\tRtlGetFullPathName_UEx [0x778B90AF+1215]\n\tRtlGetFullPathName_UEx [0x778B907D+1165]\n",
     "output_type": "error",
     "traceback": [
      "\u001b[1;31m---------------------------------------------------------------------------\u001b[0m",
      "\u001b[1;31mWebDriverException\u001b[0m                        Traceback (most recent call last)",
      "\u001b[1;32m~\\AppData\\Local\\Temp/ipykernel_57620/1454402423.py\u001b[0m in \u001b[0;36m<module>\u001b[1;34m\u001b[0m\n\u001b[0;32m      8\u001b[0m \u001b[0mTOTAL_NUMBER_OF_EXAMPLE\u001b[0m \u001b[1;33m=\u001b[0m \u001b[1;36m200\u001b[0m\u001b[1;33m\u001b[0m\u001b[1;33m\u001b[0m\u001b[0m\n\u001b[0;32m      9\u001b[0m \u001b[1;32mfor\u001b[0m \u001b[0murl_current\u001b[0m\u001b[1;33m,\u001b[0m \u001b[0mlbl\u001b[0m \u001b[1;32min\u001b[0m \u001b[0mtqdm\u001b[0m\u001b[1;33m(\u001b[0m\u001b[0mzip\u001b[0m\u001b[1;33m(\u001b[0m\u001b[0mgoogle_urls\u001b[0m\u001b[1;33m,\u001b[0m \u001b[0mlabels\u001b[0m\u001b[1;33m)\u001b[0m\u001b[1;33m)\u001b[0m\u001b[1;33m:\u001b[0m\u001b[1;33m\u001b[0m\u001b[1;33m\u001b[0m\u001b[0m\n\u001b[1;32m---> 10\u001b[1;33m     \u001b[0murl\u001b[0m \u001b[1;33m=\u001b[0m \u001b[0mget_images_url_from_google\u001b[0m\u001b[1;33m(\u001b[0m\u001b[1;36m0.5\u001b[0m\u001b[1;33m,\u001b[0m \u001b[0mTOTAL_NUMBER_OF_EXAMPLE\u001b[0m\u001b[1;33m,\u001b[0m \u001b[0murl_current\u001b[0m\u001b[1;33m)\u001b[0m\u001b[1;33m\u001b[0m\u001b[1;33m\u001b[0m\u001b[0m\n\u001b[0m\u001b[0;32m     11\u001b[0m     \u001b[0mprint\u001b[0m\u001b[1;33m(\u001b[0m\u001b[0mlen\u001b[0m\u001b[1;33m(\u001b[0m\u001b[0murl\u001b[0m\u001b[1;33m)\u001b[0m\u001b[1;33m)\u001b[0m\u001b[1;33m\u001b[0m\u001b[1;33m\u001b[0m\u001b[0m\n\u001b[0;32m     12\u001b[0m     \u001b[0murls\u001b[0m\u001b[1;33m.\u001b[0m\u001b[0mappend\u001b[0m\u001b[1;33m(\u001b[0m\u001b[0murl\u001b[0m\u001b[1;33m)\u001b[0m\u001b[1;33m\u001b[0m\u001b[1;33m\u001b[0m\u001b[0m\n",
      "\u001b[1;32m~\\AppData\\Local\\Temp/ipykernel_57620/2653360796.py\u001b[0m in \u001b[0;36mget_images_url_from_google\u001b[1;34m(delay, max_images, url)\u001b[0m\n\u001b[0;32m     18\u001b[0m     \u001b[1;31m#wd = webdriver.Chrome('./chromedriver')\u001b[0m\u001b[1;33m\u001b[0m\u001b[1;33m\u001b[0m\u001b[0m\n\u001b[0;32m     19\u001b[0m     \u001b[0mprint\u001b[0m\u001b[1;33m(\u001b[0m\u001b[0murl\u001b[0m\u001b[1;33m)\u001b[0m\u001b[1;33m\u001b[0m\u001b[1;33m\u001b[0m\u001b[0m\n\u001b[1;32m---> 20\u001b[1;33m     \u001b[0mwd\u001b[0m\u001b[1;33m.\u001b[0m\u001b[0mget\u001b[0m\u001b[1;33m(\u001b[0m\u001b[0murl\u001b[0m\u001b[1;33m)\u001b[0m\u001b[1;33m\u001b[0m\u001b[1;33m\u001b[0m\u001b[0m\n\u001b[0m\u001b[0;32m     21\u001b[0m     \u001b[0mimage_urls\u001b[0m \u001b[1;33m=\u001b[0m \u001b[0mset\u001b[0m\u001b[1;33m(\u001b[0m\u001b[1;33m)\u001b[0m\u001b[1;33m\u001b[0m\u001b[1;33m\u001b[0m\u001b[0m\n\u001b[0;32m     22\u001b[0m     \u001b[0mskips\u001b[0m \u001b[1;33m=\u001b[0m \u001b[1;36m0\u001b[0m\u001b[1;33m\u001b[0m\u001b[1;33m\u001b[0m\u001b[0m\n",
      "\u001b[1;32m~\\anaconda3\\lib\\site-packages\\selenium\\webdriver\\remote\\webdriver.py\u001b[0m in \u001b[0;36mget\u001b[1;34m(self, url)\u001b[0m\n\u001b[0;32m    445\u001b[0m         \u001b[0mLoads\u001b[0m \u001b[0ma\u001b[0m \u001b[0mweb\u001b[0m \u001b[0mpage\u001b[0m \u001b[1;32min\u001b[0m \u001b[0mthe\u001b[0m \u001b[0mcurrent\u001b[0m \u001b[0mbrowser\u001b[0m \u001b[0msession\u001b[0m\u001b[1;33m.\u001b[0m\u001b[1;33m\u001b[0m\u001b[1;33m\u001b[0m\u001b[0m\n\u001b[0;32m    446\u001b[0m         \"\"\"\n\u001b[1;32m--> 447\u001b[1;33m         \u001b[0mself\u001b[0m\u001b[1;33m.\u001b[0m\u001b[0mexecute\u001b[0m\u001b[1;33m(\u001b[0m\u001b[0mCommand\u001b[0m\u001b[1;33m.\u001b[0m\u001b[0mGET\u001b[0m\u001b[1;33m,\u001b[0m \u001b[1;33m{\u001b[0m\u001b[1;34m'url'\u001b[0m\u001b[1;33m:\u001b[0m \u001b[0murl\u001b[0m\u001b[1;33m}\u001b[0m\u001b[1;33m)\u001b[0m\u001b[1;33m\u001b[0m\u001b[1;33m\u001b[0m\u001b[0m\n\u001b[0m\u001b[0;32m    448\u001b[0m \u001b[1;33m\u001b[0m\u001b[0m\n\u001b[0;32m    449\u001b[0m     \u001b[1;33m@\u001b[0m\u001b[0mproperty\u001b[0m\u001b[1;33m\u001b[0m\u001b[1;33m\u001b[0m\u001b[0m\n",
      "\u001b[1;32m~\\anaconda3\\lib\\site-packages\\selenium\\webdriver\\remote\\webdriver.py\u001b[0m in \u001b[0;36mexecute\u001b[1;34m(self, driver_command, params)\u001b[0m\n\u001b[0;32m    433\u001b[0m         \u001b[0mresponse\u001b[0m \u001b[1;33m=\u001b[0m \u001b[0mself\u001b[0m\u001b[1;33m.\u001b[0m\u001b[0mcommand_executor\u001b[0m\u001b[1;33m.\u001b[0m\u001b[0mexecute\u001b[0m\u001b[1;33m(\u001b[0m\u001b[0mdriver_command\u001b[0m\u001b[1;33m,\u001b[0m \u001b[0mparams\u001b[0m\u001b[1;33m)\u001b[0m\u001b[1;33m\u001b[0m\u001b[1;33m\u001b[0m\u001b[0m\n\u001b[0;32m    434\u001b[0m         \u001b[1;32mif\u001b[0m \u001b[0mresponse\u001b[0m\u001b[1;33m:\u001b[0m\u001b[1;33m\u001b[0m\u001b[1;33m\u001b[0m\u001b[0m\n\u001b[1;32m--> 435\u001b[1;33m             \u001b[0mself\u001b[0m\u001b[1;33m.\u001b[0m\u001b[0merror_handler\u001b[0m\u001b[1;33m.\u001b[0m\u001b[0mcheck_response\u001b[0m\u001b[1;33m(\u001b[0m\u001b[0mresponse\u001b[0m\u001b[1;33m)\u001b[0m\u001b[1;33m\u001b[0m\u001b[1;33m\u001b[0m\u001b[0m\n\u001b[0m\u001b[0;32m    436\u001b[0m             response['value'] = self._unwrap_value(\n\u001b[0;32m    437\u001b[0m                 response.get('value', None))\n",
      "\u001b[1;32m~\\anaconda3\\lib\\site-packages\\selenium\\webdriver\\remote\\errorhandler.py\u001b[0m in \u001b[0;36mcheck_response\u001b[1;34m(self, response)\u001b[0m\n\u001b[0;32m    245\u001b[0m                 \u001b[0malert_text\u001b[0m \u001b[1;33m=\u001b[0m \u001b[0mvalue\u001b[0m\u001b[1;33m[\u001b[0m\u001b[1;34m'alert'\u001b[0m\u001b[1;33m]\u001b[0m\u001b[1;33m.\u001b[0m\u001b[0mget\u001b[0m\u001b[1;33m(\u001b[0m\u001b[1;34m'text'\u001b[0m\u001b[1;33m)\u001b[0m\u001b[1;33m\u001b[0m\u001b[1;33m\u001b[0m\u001b[0m\n\u001b[0;32m    246\u001b[0m             \u001b[1;32mraise\u001b[0m \u001b[0mexception_class\u001b[0m\u001b[1;33m(\u001b[0m\u001b[0mmessage\u001b[0m\u001b[1;33m,\u001b[0m \u001b[0mscreen\u001b[0m\u001b[1;33m,\u001b[0m \u001b[0mstacktrace\u001b[0m\u001b[1;33m,\u001b[0m \u001b[0malert_text\u001b[0m\u001b[1;33m)\u001b[0m  \u001b[1;31m# type: ignore[call-arg]  # mypy is not smart enough here\u001b[0m\u001b[1;33m\u001b[0m\u001b[1;33m\u001b[0m\u001b[0m\n\u001b[1;32m--> 247\u001b[1;33m         \u001b[1;32mraise\u001b[0m \u001b[0mexception_class\u001b[0m\u001b[1;33m(\u001b[0m\u001b[0mmessage\u001b[0m\u001b[1;33m,\u001b[0m \u001b[0mscreen\u001b[0m\u001b[1;33m,\u001b[0m \u001b[0mstacktrace\u001b[0m\u001b[1;33m)\u001b[0m\u001b[1;33m\u001b[0m\u001b[1;33m\u001b[0m\u001b[0m\n\u001b[0m\u001b[0;32m    248\u001b[0m \u001b[1;33m\u001b[0m\u001b[0m\n\u001b[0;32m    249\u001b[0m     \u001b[1;32mdef\u001b[0m \u001b[0m_value_or_default\u001b[0m\u001b[1;33m(\u001b[0m\u001b[0mself\u001b[0m\u001b[1;33m,\u001b[0m \u001b[0mobj\u001b[0m\u001b[1;33m:\u001b[0m \u001b[0mMapping\u001b[0m\u001b[1;33m[\u001b[0m\u001b[0m_KT\u001b[0m\u001b[1;33m,\u001b[0m \u001b[0m_VT\u001b[0m\u001b[1;33m]\u001b[0m\u001b[1;33m,\u001b[0m \u001b[0mkey\u001b[0m\u001b[1;33m:\u001b[0m \u001b[0m_KT\u001b[0m\u001b[1;33m,\u001b[0m \u001b[0mdefault\u001b[0m\u001b[1;33m:\u001b[0m \u001b[0m_VT\u001b[0m\u001b[1;33m)\u001b[0m \u001b[1;33m->\u001b[0m \u001b[0m_VT\u001b[0m\u001b[1;33m:\u001b[0m\u001b[1;33m\u001b[0m\u001b[1;33m\u001b[0m\u001b[0m\n",
      "\u001b[1;31mWebDriverException\u001b[0m: Message: unknown error: net::ERR_INTERNET_DISCONNECTED\n  (Session info: chrome=104.0.5112.82)\nStacktrace:\nBacktrace:\n\tOrdinal0 [0x00646463+2188387]\n\tOrdinal0 [0x005DE461+1762401]\n\tOrdinal0 [0x004F3D78+802168]\n\tOrdinal0 [0x004F04E8+787688]\n\tOrdinal0 [0x004E654D+746829]\n\tOrdinal0 [0x004E710A+749834]\n\tOrdinal0 [0x004E675A+747354]\n\tOrdinal0 [0x004E5D3F+744767]\n\tOrdinal0 [0x004E4C28+740392]\n\tOrdinal0 [0x004E50FD+741629]\n\tOrdinal0 [0x004F5544+808260]\n\tOrdinal0 [0x0054D2DD+1168093]\n\tOrdinal0 [0x0053C7DC+1099740]\n\tOrdinal0 [0x0054CC22+1166370]\n\tOrdinal0 [0x0053C5F6+1099254]\n\tOrdinal0 [0x00516BE0+945120]\n\tOrdinal0 [0x00517AD6+948950]\n\tGetHandleVerifier [0x008E71F2+2712546]\n\tGetHandleVerifier [0x008D886D+2652765]\n\tGetHandleVerifier [0x006D002A+520730]\n\tGetHandleVerifier [0x006CEE06+516086]\n\tOrdinal0 [0x005E468B+1787531]\n\tOrdinal0 [0x005E8E88+1805960]\n\tOrdinal0 [0x005E8F75+1806197]\n\tOrdinal0 [0x005F1DF1+1842673]\n\tBaseThreadInitThunk [0x76E76739+25]\n\tRtlGetFullPathName_UEx [0x778B90AF+1215]\n\tRtlGetFullPathName_UEx [0x778B907D+1165]\n"
     ]
    }
   ],
   "source": [
    "google_urls = df['links']#[df.loc[0]['links'], df.loc[1]['links']]\n",
    "labels = df['key'].values.astype(str)#[str(df.loc[0]['key']), str(df.loc[1]['key'])]\n",
    "\n",
    "if len(google_urls) != len(labels):\n",
    "    raise ValueError('The length the url does not mtach the length of labes')\n",
    "\n",
    "urls = []        \n",
    "TOTAL_NUMBER_OF_EXAMPLE = 200\n",
    "for url_current, lbl in tqdm(zip(google_urls, labels)):\n",
    "    url = get_images_url_from_google(0.5, TOTAL_NUMBER_OF_EXAMPLE, url_current)\n",
    "    print(len(url))\n",
    "    urls.append(url)\n",
    "print(urls)"
   ]
  },
  {
   "cell_type": "code",
   "execution_count": null,
   "id": "229a0fb0",
   "metadata": {},
   "outputs": [],
   "source": [
    "len(urls[0])"
   ]
  },
  {
   "cell_type": "code",
   "execution_count": null,
   "id": "a3e6a087",
   "metadata": {},
   "outputs": [],
   "source": [
    "df['key']"
   ]
  },
  {
   "cell_type": "code",
   "execution_count": null,
   "id": "69133e06",
   "metadata": {},
   "outputs": [],
   "source": [
    "labels"
   ]
  }
 ],
 "metadata": {
  "kernelspec": {
   "display_name": "Python 3 (ipykernel)",
   "language": "python",
   "name": "python3"
  },
  "language_info": {
   "codemirror_mode": {
    "name": "ipython",
    "version": 3
   },
   "file_extension": ".py",
   "mimetype": "text/x-python",
   "name": "python",
   "nbconvert_exporter": "python",
   "pygments_lexer": "ipython3",
   "version": "3.9.7"
  }
 },
 "nbformat": 4,
 "nbformat_minor": 5
}
